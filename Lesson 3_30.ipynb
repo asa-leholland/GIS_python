{
 "cells": [
  {
   "cell_type": "code",
   "execution_count": 2,
   "metadata": {},
   "outputs": [],
   "source": [
    "import unittest"
   ]
  },
  {
   "cell_type": "code",
   "execution_count": 5,
   "metadata": {},
   "outputs": [
    {
     "name": "stdout",
     "output_type": "stream",
     "text": [
      "{0: {'city_name': 'Irvine', 'latitude': 33.6846, 'longitude': 117.8265}, 1: {'city_name': 'San Francisco', 'latitude': 37.7749, 'longitude': 122.4194}, 2: {'city_name': 'Costa Mesa', 'latitude': 33.6638, 'longitude': 117.9047}}\n"
     ]
    }
   ],
   "source": [
    "city_names = [\"Irvine\", \"San Francisco\", \"Costa Mesa\"]\n",
    "latitudes = [33.6846, 37.7749, 33.6638]\n",
    "longitudes = [117.8265, 122.4194, 117.9047]\n",
    "\n",
    "\n",
    "class TestStringMethods(unittest.TestCase):\n",
    "    def test_equal_lengths(self, array_of_lists):\n",
    "        list_of_lengths = []\n",
    "        for input_array in array_of_lists:\n",
    "            list_of_lengths.append(len(input_array))\n",
    "        flag = len(set(list_of_lengths)) == len(list_of_lengths)\n",
    "        error_message = \"Input lists are of unequal lengths\"\n",
    "        self.assertTrue(flag, error_message)\n",
    "\n",
    "\n",
    "dict1 = {\n",
    "    \"names\": city_names,\n",
    "    \"latitudes\": latitudes,\n",
    "    \"longitudes\": longitudes}\n",
    "\n",
    "locations = {}\n",
    "for i in range(len(city_names)):\n",
    "    locations[i] = {\"city_name\": city_names[i], \"latitude\": latitudes[i], \"longitude\":longitudes[i]}\n",
    "\n",
    "print(locations)\n"
   ]
  },
  {
   "cell_type": "code",
   "execution_count": 6,
   "metadata": {},
   "outputs": [
    {
     "name": "stdout",
     "output_type": "stream",
     "text": [
      "False\n"
     ]
    }
   ],
   "source": [
    "list_of_vars = [\"SQL\", \"Python\", \"C++\"]\n",
    "\n",
    "if \"Java\" in list_of_vars:\n",
    "    print(\"True\")\n",
    "else:\n",
    "    print(\"False\")"
   ]
  },
  {
   "cell_type": "code",
   "execution_count": 12,
   "metadata": {},
   "outputs": [
    {
     "name": "stdout",
     "output_type": "stream",
     "text": [
      "Irvine\n",
      "Santa Ana\n",
      "Costa Mesa\n",
      "{'names': ['Irvine', 'San Francisco', 'Costa Mesa'], 'latitudes': [33.6846, 37.7749, 33.6638], 'longitudes': [117.8265, 122.4194, 117.9047]}\n",
      "Irvine 33.6846 117.8265\n",
      "San Francisco 37.7749 122.4194\n",
      "Costa Mesa 33.6638 117.9047\n"
     ]
    }
   ],
   "source": [
    "city = ['Irvine', 'Santa Ana', 'Costa Mesa']\n",
    "for item in city:\n",
    "    print(item)\n",
    "\n",
    "dict1 = {\n",
    "    \"names\": city_names,\n",
    "    \"latitudes\": latitudes,\n",
    "    \"longitudes\": longitudes}\n",
    "\n",
    "print(dict1)\n",
    "\n",
    "for i in range(len(dict1[\"names\"])):\n",
    "    print(dict1[\"names\"][i], dict1[\"latitudes\"][i], dict1[\"longitudes\"][i])\n",
    "\n"
   ]
  }
 ],
 "metadata": {
  "interpreter": {
   "hash": "1c559ccb8c3504c0e3804c6d489c5772dbdb3da83d1ba182a6593afe05e2a099"
  },
  "kernelspec": {
   "display_name": "Python 3.9.12 64-bit (windows store)",
   "language": "python",
   "name": "python3"
  },
  "language_info": {
   "codemirror_mode": {
    "name": "ipython",
    "version": 3
   },
   "file_extension": ".py",
   "mimetype": "text/x-python",
   "name": "python",
   "nbconvert_exporter": "python",
   "pygments_lexer": "ipython3",
   "version": "3.9.12"
  },
  "orig_nbformat": 4
 },
 "nbformat": 4,
 "nbformat_minor": 2
}
